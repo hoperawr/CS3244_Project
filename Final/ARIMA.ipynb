{
 "cells": [
  {
   "cell_type": "markdown",
   "id": "charged-negative",
   "metadata": {},
   "source": [
    "# ARIMA"
   ]
  },
  {
   "cell_type": "markdown",
   "id": "blond-footwear",
   "metadata": {},
   "source": [
    "The Autoregressive Integrated Moving Average Model, or ARIMA for short is a standard statistical model for time series forecast and analysis.\n",
    "  \n",
    "The authors Box and Jenkins also suggest a process for identifying, estimating, and checking models for a specific time series dataset. This process is now referred to as the Box-Jenkins Method.\n",
    "  \n",
    "We will be using concepts from this method such as Autocorrelation, Partial Autocorrelation and Akaike Information Criterion to tune the hyperparameters of the model as well as help evaluate the usefulness of this machine learning model.   \n",
    "  \n",
    "Although the dataset provides us with numerous varialbes, the profit or loss calculation of a stock is usually determined by the closing price, thus we will consider the closing price as the target variable. "
   ]
  },
  {
   "cell_type": "code",
   "execution_count": 1,
   "id": "ba886563",
   "metadata": {},
   "outputs": [],
   "source": [
    "import numpy as np \n",
    "import pandas as pd \n",
    "import matplotlib.pyplot as plt\n",
    "from pandas import Series\n",
    "from pandas.plotting import lag_plot\n",
    "from statsmodels.tsa.arima.model import ARIMA\n",
    "from sklearn.metrics import mean_squared_error\n",
    "from sklearn.metrics import mean_absolute_error\n",
    "from pandas import read_csv\n",
    "from datetime import datetime\n",
    "from statsmodels.tsa.stattools import adfuller\n",
    "from statsmodels.graphics.tsaplots import plot_acf\n",
    "from statsmodels.graphics.tsaplots import plot_pacf\n",
    "import pmdarima as pm"
   ]
  },
  {
   "cell_type": "markdown",
   "id": "44b73ba5",
   "metadata": {},
   "source": [
    "### Import Data"
   ]
  },
  {
   "cell_type": "code",
   "execution_count": 2,
   "id": "38b2f8b1",
   "metadata": {
    "scrolled": true
   },
   "outputs": [
    {
     "name": "stdout",
     "output_type": "stream",
     "text": [
      "              Close\n",
      "Date               \n",
      "1984-09-07  0.42388\n",
      "1984-09-10  0.42134\n",
      "1984-09-11  0.42902\n",
      "1984-09-12  0.41618\n",
      "1984-09-13  0.43927\n"
     ]
    },
    {
     "data": {
      "text/plain": [
       "[<matplotlib.lines.Line2D at 0x2c9915e4518>]"
      ]
     },
     "execution_count": 2,
     "metadata": {},
     "output_type": "execute_result"
    },
    {
     "data": {
      "image/png": "[encoded data removed]",
      "text/plain": [
       "<Figure size 432x288 with 1 Axes>"
      ]
     },
     "metadata": {
      "needs_background": "light"
     },
     "output_type": "display_data"
    }
   ],
   "source": [
    "def parser(x):\n",
    "\treturn datetime.strptime(x, '%Y-%m-%d')\n",
    " \n",
    "stock = 'aapl' \n",
    "path = 'data/Stocks/'\n",
    "df = read_csv(path +'%s.us.txt'%stock, header=0, parse_dates=[0], index_col=0, date_parser=parser)\n",
    "df.drop(columns=['OpenInt','Open','High','Low','Volume'], inplace = True)\n",
    "print(df.head())\n",
    "plt.plot(df['Close'])"
   ]
  },
  {
   "cell_type": "markdown",
   "id": "compliant-underground",
   "metadata": {},
   "source": [
    "### Setting parameters for train test split"
   ]
  },
  {
   "cell_type": "code",
   "execution_count": 3,
   "id": "identified-species",
   "metadata": {},
   "outputs": [],
   "source": [
    "train_test_split = 0.80"
   ]
  },
  {
   "cell_type": "markdown",
   "id": "muslim-swaziland",
   "metadata": {},
   "source": [
    "# <ins> Predicting t+1 </ins>"
   ]
  },
  {
   "cell_type": "markdown",
   "id": "monthly-worthy",
   "metadata": {},
   "source": [
    "# Splitting of data"
   ]
  },
  {
   "cell_type": "code",
   "execution_count": 4,
   "id": "handmade-liberia",
   "metadata": {},
   "outputs": [],
   "source": [
    "# split into train and test sets\n",
    "X = df.values\n",
    "size = int(len(X) * train_test_split)\n",
    "train, test = X[0:size], X[size:len(X)]\n",
    "history = [x for x in train]"
   ]
  },
  {
   "cell_type": "markdown",
   "id": "adaptive-ottawa",
   "metadata": {},
   "source": [
    "# Dickey-Fuller Test"
   ]
  },
  {
   "cell_type": "markdown",
   "id": "still-gazette",
   "metadata": {},
   "source": [
    "The Dickey-Fuller test tests the null hypothesis that the data is non-stationary in an autoregressive time series model.   \n",
    "For the ARIMA model to be used, the data has to be stationary and we achieve this by performing differencing. \n",
    "\n",
    "p-value > 0.05: Fail to reject the null hypothesis (H0), the data is non-stationary.  \n",
    "p-value <= 0.05: Reject the null hypothesis (H0), the data is stationary."
   ]
  },
  {
   "cell_type": "code",
   "execution_count": 5,
   "id": "warming-moisture",
   "metadata": {
    "scrolled": true
   },
   "outputs": [
    {
     "name": "stdout",
     "output_type": "stream",
     "text": [
      "ADF Statistic: 2.782586\n",
      "p-value: 1.000000\n",
      "Critical Values:\n",
      "\t1%: -3.431\n",
      "\t5%: -2.862\n",
      "\t10%: -2.567\n"
     ]
    }
   ],
   "source": [
    "X = pd.Series(train.flatten('F'))\n",
    "result = adfuller(X)\n",
    "print('ADF Statistic: %f' % result[0])\n",
    "print('p-value: %f' % result[1])\n",
    "print('Critical Values:')\n",
    "for key, value in result[4].items():\n",
    "\tprint('\\t%s: %.3f' % (key, value))"
   ]
  },
  {
   "cell_type": "markdown",
   "id": "bizarre-introduction",
   "metadata": {},
   "source": [
    "In this case, the p-value > 0.05 and thus clearly at least one order of differencing is needed to stationarize this series.  \n",
    "We perform one order of differencing."
   ]
  },
  {
   "cell_type": "code",
   "execution_count": 6,
   "id": "amateur-devon",
   "metadata": {
    "scrolled": false
   },
   "outputs": [
    {
     "name": "stdout",
     "output_type": "stream",
     "text": [
      "ADF Statistic: -11.815507\n",
      "p-value: 0.000000\n",
      "Critical Values:\n",
      "\t1%: -3.431\n",
      "\t5%: -2.862\n",
      "\t10%: -2.567\n"
     ]
    },
    {
     "data": {
      "image/png": "[encoded data removed]",
      "text/plain": [
       "<Figure size 432x288 with 1 Axes>"
      ]
     },
     "metadata": {
      "needs_background": "light"
     },
     "output_type": "display_data"
    }
   ],
   "source": [
    "first_diff = X - X.shift(1)\n",
    "first_diff = first_diff.dropna(inplace = False)\n",
    "plt.plot(first_diff)\n",
    "result = adfuller(first_diff)\n",
    "print('ADF Statistic: %f' % result[0])\n",
    "print('p-value: %f' % result[1])\n",
    "print('Critical Values:')\n",
    "for key, value in result[4].items():\n",
    "\tprint('\\t%s: %.3f' % (key, value))"
   ]
  },
  {
   "cell_type": "markdown",
   "id": "binary-national",
   "metadata": {},
   "source": [
    "After one order of differencing, the p-value is extremely small. Thus this series is very likely to be stationary."
   ]
  },
  {
   "cell_type": "markdown",
   "id": "convertible-italic",
   "metadata": {},
   "source": [
    "# Autocorrelation"
   ]
  },
  {
   "cell_type": "markdown",
   "id": "touched-pleasure",
   "metadata": {},
   "source": [
    "We will be using the Box-Jenkins model to analyze the input parameters for Autoregressive integrated moving average (ARIMA) where the inputs are p, d, q.    \n",
    "  \n",
    "p : the order of the Auto Regressive (AR) term    \n",
    "d : the minimum number of differencing needed to make the series stationar  \n",
    "q : the order of the Moving Average (MA) term  \n"
   ]
  },
  {
   "cell_type": "markdown",
   "id": "covered-repeat",
   "metadata": {},
   "source": [
    "Firstly, we will be using the first order differenced values to try to find the AR term by inspecting the Partial Autocorrelation (PACF) plot."
   ]
  },
  {
   "cell_type": "code",
   "execution_count": 7,
   "id": "delayed-terrorist",
   "metadata": {
    "scrolled": false
   },
   "outputs": [
    {
     "data": {
      "image/png": "[encoded data removed]",
      "text/plain": [
       "<Figure size 432x288 with 1 Axes>"
      ]
     },
     "metadata": {
      "needs_background": "light"
     },
     "output_type": "display_data"
    }
   ],
   "source": [
    "plot_pacf(first_diff, alpha=.05)\n",
    "plt.ylim(-0.2, 0.2)\n",
    "plt.show()"
   ]
  },
  {
   "cell_type": "markdown",
   "id": "described-option",
   "metadata": {},
   "source": [
    "Next, we try to find the MA term by insepcting the Autocorrelation (ACF) plot."
   ]
  },
  {
   "cell_type": "code",
   "execution_count": 8,
   "id": "fundamental-oklahoma",
   "metadata": {
    "scrolled": false
   },
   "outputs": [
    {
     "data": {
      "image/png": "[encoded data removed]",
      "text/plain": [
       "<Figure size 432x288 with 1 Axes>"
      ]
     },
     "metadata": {
      "needs_background": "light"
     },
     "output_type": "display_data"
    }
   ],
   "source": [
    "plot_acf(first_diff, alpha=.05)\n",
    "plt.ylim(-0.2, 0.2)\n",
    "plt.show()"
   ]
  },
  {
   "cell_type": "markdown",
   "id": "central-group",
   "metadata": {},
   "source": [
    "Our analysis here will be based of the Box-Jenkins methods which describe methods for model identification. \n",
    "\n",
    "First we notice that neither the autocorrelation or partial autocorrelation graphs cut off, which suggest that we should use a mixed model instead of purely AR or MA.\n",
    "\n",
    "Next, when we analyze the first few autocorrelation and partial autocorrelation values, we are not able to find any large values above the significance threshhold to suggest an appropriate p and q value for our model. This also suggests that the model follows a white noise pattern which would be difficult to model. \n",
    "  \n",
    "Therefore a more conclusive way to deteremine the model parameters would be to make use of the pmdarima package auto ARIMA function which performs stepwise search to minimize Akaike Information Criterion value."
   ]
  },
  {
   "cell_type": "code",
   "execution_count": 9,
   "id": "derived-bathroom",
   "metadata": {},
   "outputs": [
    {
     "name": "stdout",
     "output_type": "stream",
     "text": [
      "Performing stepwise search to minimize aic\n",
      " ARIMA(0,1,0)(0,0,0)[0] intercept   : AIC=-1764.402, Time=0.62 sec\n",
      " ARIMA(1,1,0)(0,0,0)[0] intercept   : AIC=-1763.767, Time=0.95 sec\n",
      " ARIMA(0,1,1)(0,0,0)[0] intercept   : AIC=-1763.784, Time=0.50 sec\n",
      " ARIMA(0,1,0)(0,0,0)[0]             : AIC=-1760.178, Time=0.61 sec\n",
      " ARIMA(1,1,1)(0,0,0)[0] intercept   : AIC=-1761.850, Time=1.02 sec\n",
      "\n",
      "Best model:  ARIMA(0,1,0)(0,0,0)[0] intercept\n",
      "Total fit time: 3.723 seconds\n",
      "(0, 1, 0)\n"
     ]
    }
   ],
   "source": [
    "auto = pm.auto_arima(train, start_p=0, start_q=0,\n",
    "                      test='adf',       # use adftest to find optimal 'd'\n",
    "                      max_p=3, max_q=3, # maximum p and q\n",
    "                      m=1,              # frequency of series\n",
    "                      d=None,           # let model determine 'd'\n",
    "                      seasonal=False,   # No Seasonality\n",
    "                      start_P=0, \n",
    "                      D=0, \n",
    "                      trace=True,\n",
    "                      error_action='ignore',  \n",
    "                      suppress_warnings=True, \n",
    "                      stepwise=True)\n",
    "\n",
    "print(auto.order)"
   ]
  },
  {
   "cell_type": "markdown",
   "id": "straight-barrier",
   "metadata": {},
   "source": [
    "# ARIMA"
   ]
  },
  {
   "cell_type": "markdown",
   "id": "southwest-classic",
   "metadata": {},
   "source": [
    "Since we will be constantly updating our model everytime a new closing price for a stock comes out, we will be performing walk-forward validation on the generated ARIMA model.\n",
    "At each step, the model predicts the next step value and updates the model with the actual value by using a expanding window.  "
   ]
  },
  {
   "cell_type": "code",
   "execution_count": 10,
   "id": "ideal-sponsorship",
   "metadata": {},
   "outputs": [],
   "source": [
    "model = auto\n",
    "\n",
    "def forecast_one_step():\n",
    "    fc = model.predict(n_periods=1)\n",
    "    return fc.tolist()[0]\n",
    "\n",
    "predictions1 = []\n",
    "\n",
    "for t in range(len(test)):\n",
    "    fc = forecast_one_step()\n",
    "    predictions1.append(fc)\n",
    "    model.update(test[t])"
   ]
  },
  {
   "cell_type": "markdown",
   "id": "interested-contents",
   "metadata": {},
   "source": [
    "As we can see above, the root mean square error of the ARIMA model is 1.396 while the error of the persistent model is 1.952 which means it has a higher accuracy. "
   ]
  },
  {
   "cell_type": "code",
   "execution_count": 12,
   "id": "recovered-michael",
   "metadata": {},
   "outputs": [
    {
     "data": {
      "text/html": [
       "<div>\n",
       "<style scoped>\n",
       "    .dataframe tbody tr th:only-of-type {\n",
       "        vertical-align: middle;\n",
       "    }\n",
       "\n",
       "    .dataframe tbody tr th {\n",
       "        vertical-align: top;\n",
       "    }\n",
       "\n",
       "    .dataframe thead th {\n",
       "        text-align: right;\n",
       "    }\n",
       "</style>\n",
       "<table border=\"1\" class=\"dataframe\">\n",
       "  <thead>\n",
       "    <tr style=\"text-align: right;\">\n",
       "      <th></th>\n",
       "      <th>Initial</th>\n",
       "      <th>Actual</th>\n",
       "      <th>Predicted</th>\n",
       "      <th>Act_Change</th>\n",
       "      <th>Pred_Change</th>\n",
       "    </tr>\n",
       "  </thead>\n",
       "  <tbody>\n",
       "    <tr>\n",
       "      <th>0</th>\n",
       "      <td>43.696</td>\n",
       "      <td>43.436</td>\n",
       "      <td>43.702468</td>\n",
       "      <td>-0.260</td>\n",
       "      <td>0.006468</td>\n",
       "    </tr>\n",
       "    <tr>\n",
       "      <th>1</th>\n",
       "      <td>43.436</td>\n",
       "      <td>44.179</td>\n",
       "      <td>43.442424</td>\n",
       "      <td>0.743</td>\n",
       "      <td>0.006424</td>\n",
       "    </tr>\n",
       "    <tr>\n",
       "      <th>2</th>\n",
       "      <td>44.179</td>\n",
       "      <td>45.019</td>\n",
       "      <td>44.185533</td>\n",
       "      <td>0.840</td>\n",
       "      <td>0.006533</td>\n",
       "    </tr>\n",
       "    <tr>\n",
       "      <th>3</th>\n",
       "      <td>45.019</td>\n",
       "      <td>44.877</td>\n",
       "      <td>45.025658</td>\n",
       "      <td>-0.142</td>\n",
       "      <td>0.006658</td>\n",
       "    </tr>\n",
       "    <tr>\n",
       "      <th>4</th>\n",
       "      <td>44.877</td>\n",
       "      <td>44.945</td>\n",
       "      <td>44.883636</td>\n",
       "      <td>0.068</td>\n",
       "      <td>0.006636</td>\n",
       "    </tr>\n",
       "  </tbody>\n",
       "</table>\n",
       "</div>"
      ],
      "text/plain": [
       "   Initial  Actual  Predicted  Act_Change  Pred_Change\n",
       "0   43.696  43.436  43.702468      -0.260     0.006468\n",
       "1   43.436  44.179  43.442424       0.743     0.006424\n",
       "2   44.179  45.019  44.185533       0.840     0.006533\n",
       "3   45.019  44.877  45.025658      -0.142     0.006658\n",
       "4   44.877  44.945  44.883636       0.068     0.006636"
      ]
     },
     "execution_count": 12,
     "metadata": {},
     "output_type": "execute_result"
    }
   ],
   "source": [
    "temp_test = test.copy()\n",
    "result_df = pd.DataFrame(temp_test , columns =['Initial'])\n",
    "result_df['Actual'] = test\n",
    "result_df['Initial'] = result_df['Initial'].shift(1, axis = 0)\n",
    "result_df['Predicted'] = predictions1\n",
    "result_df['Initial'][0] = train[len(train)-1]\n",
    "result_df['Act_Change'] = result_df.apply(lambda row: row['Actual'] - row['Initial'] , axis = 1)\n",
    "result_df['Pred_Change'] = result_df.apply(lambda row: row['Predicted'] - row['Initial'] , axis = 1)\n",
    "\n",
    "result_df.head(5)"
   ]
  },
  {
   "cell_type": "markdown",
   "id": "dental-mason",
   "metadata": {},
   "source": [
    "# Evaluation of results"
   ]
  },
  {
   "cell_type": "code",
   "execution_count": 31,
   "id": "historic-enough",
   "metadata": {},
   "outputs": [
    {
     "name": "stdout",
     "output_type": "stream",
     "text": [
      "Test RMSE: 1.396\n"
     ]
    },
    {
     "data": {
      "image/png": "[encoded data removed]",
      "text/plain": [
       "<Figure size 432x288 with 1 Axes>"
      ]
     },
     "metadata": {
      "needs_background": "light"
     },
     "output_type": "display_data"
    }
   ],
   "source": [
    "rmse = np.sqrt(mean_squared_error(result_df['Actual'], result_df['Predicted']))\n",
    "print('Test RMSE: %.3f' % rmse)\n",
    "plt.plot(test)\n",
    "plt.plot(predictions1, color='red')\n",
    "plt.show()"
   ]
  },
  {
   "cell_type": "code",
   "execution_count": 27,
   "id": "considered-split",
   "metadata": {},
   "outputs": [
    {
     "name": "stdout",
     "output_type": "stream",
     "text": [
      "Test accuracy: 0.519\n",
      "Test recall: 1.000\n",
      "Test precision: 0.519\n",
      "Test f1 score: 0.684\n"
     ]
    }
   ],
   "source": [
    "tp = 0\n",
    "tn = 0\n",
    "fp = 0\n",
    "fn = 0\n",
    "\n",
    "for index, row in result_df.iterrows():\n",
    "    if (row['Pred_Change'] > 0):\n",
    "        if (row['Act_Change'] > 0):\n",
    "            tp += 1\n",
    "        else:\n",
    "            fp += 1\n",
    "    else:\n",
    "        if (row['Act_Change'] > 0):\n",
    "            fn += 1\n",
    "        else:\n",
    "            tn += 1\n",
    "            \n",
    "if (((fn + tp)==0) | ((fp + tp)==0)):\n",
    "    print('no data available')\n",
    "else:         \n",
    "    accuracy = (tp+tn)/(tp+tn+fp+fn)\n",
    "    print('Test accuracy: %.3f' % accuracy)\n",
    "    recall = tp/(fn + tp)\n",
    "    print('Test recall: %.3f' % recall)\n",
    "    precision = tp/(fp + tp)\n",
    "    print('Test precision: %.3f' % precision)\n",
    "    f1 = 2/((1/precision)+(1/recall))\n",
    "    print('Test f1 score: %.3f' % f1)\n"
   ]
  },
  {
   "cell_type": "markdown",
   "id": "decent-animation",
   "metadata": {},
   "source": [
    "### Average Expected Gain Per Purchase"
   ]
  },
  {
   "cell_type": "code",
   "execution_count": 13,
   "id": "statistical-surveillance",
   "metadata": {},
   "outputs": [
    {
     "name": "stdout",
     "output_type": "stream",
     "text": [
      "0.07828690974297668\n"
     ]
    }
   ],
   "source": [
    "profit = 0;\n",
    "counter = 0\n",
    "for index, row in result_df.iterrows():\n",
    "    if (row['Pred_Change'] > 0):\n",
    "        profit += row['Act_Change']\n",
    "        counter += 1\n",
    "if (counter == 0):\n",
    "    print(counter)\n",
    "else:\n",
    "    print(profit/counter)"
   ]
  },
  {
   "cell_type": "markdown",
   "id": "complimentary-eating",
   "metadata": {},
   "source": [
    "# <ins> Predicting t+5 </ins>"
   ]
  },
  {
   "cell_type": "code",
   "execution_count": 14,
   "id": "pretty-links",
   "metadata": {},
   "outputs": [
    {
     "name": "stdout",
     "output_type": "stream",
     "text": [
      "Performing stepwise search to minimize aic\n",
      " ARIMA(0,1,0)(0,0,0)[0] intercept   : AIC=-1764.402, Time=0.64 sec\n",
      " ARIMA(1,1,0)(0,0,0)[0] intercept   : AIC=-1763.767, Time=0.92 sec\n",
      " ARIMA(0,1,1)(0,0,0)[0] intercept   : AIC=-1763.784, Time=0.49 sec\n",
      " ARIMA(0,1,0)(0,0,0)[0]             : AIC=-1760.178, Time=0.54 sec\n",
      " ARIMA(1,1,1)(0,0,0)[0] intercept   : AIC=-1761.850, Time=1.01 sec\n",
      "\n",
      "Best model:  ARIMA(0,1,0)(0,0,0)[0] intercept\n",
      "Total fit time: 3.619 seconds\n",
      "(0, 1, 0)\n"
     ]
    }
   ],
   "source": [
    "auto = pm.auto_arima(train, start_p=0, start_q=0,\n",
    "                      test='adf',       # use adftest to find optimal 'd'\n",
    "                      max_p=3, max_q=3, # maximum p and q\n",
    "                      m=1,              # frequency of series\n",
    "                      d=None,           # let model determine 'd'\n",
    "                      seasonal=False,   # No Seasonality\n",
    "                      start_P=0, \n",
    "                      D=0, \n",
    "                      trace=True,\n",
    "                      error_action='ignore',  \n",
    "                      suppress_warnings=True, \n",
    "                      stepwise=True)\n",
    "\n",
    "print(auto.order)"
   ]
  },
  {
   "cell_type": "code",
   "execution_count": 15,
   "id": "vocational-phone",
   "metadata": {},
   "outputs": [],
   "source": [
    "model = auto\n",
    "\n",
    "def forecast_one_step():\n",
    "    fc = model.predict(n_periods=5)\n",
    "    return fc.tolist()[0]\n",
    "\n",
    "predictions5 = []\n",
    "\n",
    "for t in range(len(test)):\n",
    "    fc = forecast_one_step()\n",
    "    predictions5.append(fc)\n",
    "    model.update(test[t])"
   ]
  },
  {
   "cell_type": "code",
   "execution_count": 17,
   "id": "associate-access",
   "metadata": {},
   "outputs": [
    {
     "data": {
      "text/html": [
       "<div>\n",
       "<style scoped>\n",
       "    .dataframe tbody tr th:only-of-type {\n",
       "        vertical-align: middle;\n",
       "    }\n",
       "\n",
       "    .dataframe tbody tr th {\n",
       "        vertical-align: top;\n",
       "    }\n",
       "\n",
       "    .dataframe thead th {\n",
       "        text-align: right;\n",
       "    }\n",
       "</style>\n",
       "<table border=\"1\" class=\"dataframe\">\n",
       "  <thead>\n",
       "    <tr style=\"text-align: right;\">\n",
       "      <th></th>\n",
       "      <th>Initial</th>\n",
       "      <th>Actual</th>\n",
       "      <th>Predicted</th>\n",
       "      <th>Act_Change</th>\n",
       "      <th>Pred_Change</th>\n",
       "    </tr>\n",
       "  </thead>\n",
       "  <tbody>\n",
       "    <tr>\n",
       "      <th>0</th>\n",
       "      <td>43.696</td>\n",
       "      <td>44.945</td>\n",
       "      <td>43.702468</td>\n",
       "      <td>1.249</td>\n",
       "      <td>0.006468</td>\n",
       "    </tr>\n",
       "    <tr>\n",
       "      <th>1</th>\n",
       "      <td>43.436</td>\n",
       "      <td>44.646</td>\n",
       "      <td>43.442424</td>\n",
       "      <td>1.210</td>\n",
       "      <td>0.006424</td>\n",
       "    </tr>\n",
       "    <tr>\n",
       "      <th>2</th>\n",
       "      <td>44.179</td>\n",
       "      <td>44.631</td>\n",
       "      <td>44.185533</td>\n",
       "      <td>0.452</td>\n",
       "      <td>0.006533</td>\n",
       "    </tr>\n",
       "    <tr>\n",
       "      <th>3</th>\n",
       "      <td>45.019</td>\n",
       "      <td>44.126</td>\n",
       "      <td>45.025658</td>\n",
       "      <td>-0.893</td>\n",
       "      <td>0.006658</td>\n",
       "    </tr>\n",
       "    <tr>\n",
       "      <th>4</th>\n",
       "      <td>44.877</td>\n",
       "      <td>43.695</td>\n",
       "      <td>44.883636</td>\n",
       "      <td>-1.182</td>\n",
       "      <td>0.006636</td>\n",
       "    </tr>\n",
       "    <tr>\n",
       "      <th>5</th>\n",
       "      <td>44.945</td>\n",
       "      <td>43.401</td>\n",
       "      <td>44.951643</td>\n",
       "      <td>-1.544</td>\n",
       "      <td>0.006643</td>\n",
       "    </tr>\n",
       "    <tr>\n",
       "      <th>6</th>\n",
       "      <td>44.646</td>\n",
       "      <td>43.291</td>\n",
       "      <td>44.652600</td>\n",
       "      <td>-1.355</td>\n",
       "      <td>0.006600</td>\n",
       "    </tr>\n",
       "    <tr>\n",
       "      <th>7</th>\n",
       "      <td>44.631</td>\n",
       "      <td>43.294</td>\n",
       "      <td>44.637598</td>\n",
       "      <td>-1.337</td>\n",
       "      <td>0.006598</td>\n",
       "    </tr>\n",
       "    <tr>\n",
       "      <th>8</th>\n",
       "      <td>44.126</td>\n",
       "      <td>42.908</td>\n",
       "      <td>44.132520</td>\n",
       "      <td>-1.218</td>\n",
       "      <td>0.006520</td>\n",
       "    </tr>\n",
       "    <tr>\n",
       "      <th>9</th>\n",
       "      <td>43.695</td>\n",
       "      <td>42.364</td>\n",
       "      <td>43.701462</td>\n",
       "      <td>-1.331</td>\n",
       "      <td>0.006462</td>\n",
       "    </tr>\n",
       "  </tbody>\n",
       "</table>\n",
       "</div>"
      ],
      "text/plain": [
       "   Initial  Actual  Predicted  Act_Change  Pred_Change\n",
       "0   43.696  44.945  43.702468       1.249     0.006468\n",
       "1   43.436  44.646  43.442424       1.210     0.006424\n",
       "2   44.179  44.631  44.185533       0.452     0.006533\n",
       "3   45.019  44.126  45.025658      -0.893     0.006658\n",
       "4   44.877  43.695  44.883636      -1.182     0.006636\n",
       "5   44.945  43.401  44.951643      -1.544     0.006643\n",
       "6   44.646  43.291  44.652600      -1.355     0.006600\n",
       "7   44.631  43.294  44.637598      -1.337     0.006598\n",
       "8   44.126  42.908  44.132520      -1.218     0.006520\n",
       "9   43.695  42.364  43.701462      -1.331     0.006462"
      ]
     },
     "execution_count": 17,
     "metadata": {},
     "output_type": "execute_result"
    }
   ],
   "source": [
    "temp_test5 = test.copy()\n",
    "result_df5 = pd.DataFrame(temp_test5 , columns =['Initial'])\n",
    "result_df5['Initial'] = result_df5['Initial'].shift(1, axis =0)\n",
    "result_df5['Initial'][0] = train[len(train)-1]\n",
    "result_df5.drop(result_df5.tail(4).index,inplace=True)\n",
    "result_df5['Actual'] = test[4:]\n",
    "result_df5['Predicted'] = predictions5[:len(predictions5)-4]\n",
    "result_df5['Act_Change'] = result_df5.apply(lambda row: row['Actual'] - row['Initial'] , axis = 1)\n",
    "result_df5['Pred_Change'] = result_df5.apply(lambda row: row['Predicted'] - row['Initial'] , axis = 1)\n",
    "\n",
    "result_df5.head(10)"
   ]
  },
  {
   "cell_type": "markdown",
   "id": "copyrighted-cedar",
   "metadata": {},
   "source": [
    "# Evaluation of results"
   ]
  },
  {
   "cell_type": "code",
   "execution_count": 29,
   "id": "raising-longitude",
   "metadata": {},
   "outputs": [
    {
     "name": "stdout",
     "output_type": "stream",
     "text": [
      "Test RMSE: 3.139\n"
     ]
    },
    {
     "data": {
      "image/png": "[encoded data removed]",
      "text/plain": [
       "<Figure size 432x288 with 1 Axes>"
      ]
     },
     "metadata": {
      "needs_background": "light"
     },
     "output_type": "display_data"
    }
   ],
   "source": [
    "rmse = np.sqrt(mean_squared_error(result_df5['Actual'], result_df5['Predicted']))\n",
    "print('Test RMSE: %.3f' % rmse)\n",
    "plt.plot(test)\n",
    "plt.plot(predictions1, color='red')\n",
    "plt.show()"
   ]
  },
  {
   "cell_type": "code",
   "execution_count": 25,
   "id": "waiting-assault",
   "metadata": {},
   "outputs": [
    {
     "name": "stdout",
     "output_type": "stream",
     "text": [
      "Test accuracy: 0.557\n",
      "Test recall: 1.000\n",
      "Test precision: 0.557\n",
      "Test f1 score: 0.716\n"
     ]
    }
   ],
   "source": [
    "tp = 0\n",
    "tn = 0\n",
    "fp = 0\n",
    "fn = 0\n",
    "\n",
    "for index, row in result_df5.iterrows():\n",
    "    if (row['Pred_Change'] > 0):\n",
    "        if (row['Act_Change'] > 0):\n",
    "            tp += 1\n",
    "        else:\n",
    "            fp += 1\n",
    "    else:\n",
    "        if (row['Act_Change'] > 0):\n",
    "            fn += 1\n",
    "        else:\n",
    "            tn += 1\n",
    "            \n",
    "if (((fn + tp)==0) | ((fp + tp)==0)):\n",
    "    print('no data available')\n",
    "else:         \n",
    "    accuracy = (tp+tn)/(tp+tn+fp+fn)\n",
    "    print('Test accuracy: %.3f' % accuracy)\n",
    "    recall = tp/(fn + tp)\n",
    "    print('Test recall: %.3f' % recall)\n",
    "    precision = tp/(fp + tp)\n",
    "    print('Test precision: %.3f' % precision)\n",
    "    f1 = 2/((1/precision)+(1/recall))\n",
    "    print('Test f1 score: %.3f' % f1)\n"
   ]
  },
  {
   "cell_type": "code",
   "execution_count": 26,
   "id": "pretty-bhutan",
   "metadata": {},
   "outputs": [
    {
     "name": "stdout",
     "output_type": "stream",
     "text": [
      "0.3907327741162379\n"
     ]
    }
   ],
   "source": [
    "profit = 0;\n",
    "counter = 0\n",
    "for index, row in result_df5.iterrows():\n",
    "    if (row['Pred_Change'] > 0):\n",
    "        profit += row['Act_Change']\n",
    "        counter += 1\n",
    "if (counter == 0):\n",
    "    print(counter)\n",
    "else:\n",
    "    print(profit/counter)"
   ]
  },
  {
   "cell_type": "markdown",
   "id": "palestinian-arthritis",
   "metadata": {},
   "source": [
    "# <ins> Predicting t+30 </ins>"
   ]
  },
  {
   "cell_type": "code",
   "execution_count": 19,
   "id": "earlier-perspective",
   "metadata": {},
   "outputs": [
    {
     "name": "stdout",
     "output_type": "stream",
     "text": [
      "Performing stepwise search to minimize aic\n",
      " ARIMA(0,1,0)(0,0,0)[0] intercept   : AIC=-1764.402, Time=0.65 sec\n",
      " ARIMA(1,1,0)(0,0,0)[0] intercept   : AIC=-1763.767, Time=0.92 sec\n",
      " ARIMA(0,1,1)(0,0,0)[0] intercept   : AIC=-1763.784, Time=0.49 sec\n",
      " ARIMA(0,1,0)(0,0,0)[0]             : AIC=-1760.178, Time=0.56 sec\n",
      " ARIMA(1,1,1)(0,0,0)[0] intercept   : AIC=-1761.850, Time=1.08 sec\n",
      "\n",
      "Best model:  ARIMA(0,1,0)(0,0,0)[0] intercept\n",
      "Total fit time: 3.736 seconds\n",
      "(0, 1, 0)\n"
     ]
    }
   ],
   "source": [
    "auto = pm.auto_arima(train, start_p=0, start_q=0,\n",
    "                      test='adf',       # use adftest to find optimal 'd'\n",
    "                      max_p=3, max_q=3, # maximum p and q\n",
    "                      m=1,              # frequency of series\n",
    "                      d=None,           # let model determine 'd'\n",
    "                      seasonal=False,   # No Seasonality\n",
    "                      start_P=0, \n",
    "                      D=0, \n",
    "                      trace=True,\n",
    "                      error_action='ignore',  \n",
    "                      suppress_warnings=True, \n",
    "                      stepwise=True)\n",
    "\n",
    "print(auto.order)"
   ]
  },
  {
   "cell_type": "code",
   "execution_count": 20,
   "id": "tribal-algebra",
   "metadata": {},
   "outputs": [],
   "source": [
    "model = auto\n",
    "\n",
    "def forecast_one_step():\n",
    "    fc = model.predict(n_periods=30)\n",
    "    return fc.tolist()[0]\n",
    "\n",
    "predictions30 = []\n",
    "\n",
    "for t in range(len(test)):\n",
    "    fc = forecast_one_step()\n",
    "    predictions30.append(fc)\n",
    "    model.update(test[t])"
   ]
  },
  {
   "cell_type": "code",
   "execution_count": 21,
   "id": "thousand-poultry",
   "metadata": {},
   "outputs": [
    {
     "data": {
      "text/html": [
       "<div>\n",
       "<style scoped>\n",
       "    .dataframe tbody tr th:only-of-type {\n",
       "        vertical-align: middle;\n",
       "    }\n",
       "\n",
       "    .dataframe tbody tr th {\n",
       "        vertical-align: top;\n",
       "    }\n",
       "\n",
       "    .dataframe thead th {\n",
       "        text-align: right;\n",
       "    }\n",
       "</style>\n",
       "<table border=\"1\" class=\"dataframe\">\n",
       "  <thead>\n",
       "    <tr style=\"text-align: right;\">\n",
       "      <th></th>\n",
       "      <th>Initial</th>\n",
       "      <th>Actual</th>\n",
       "      <th>Predicted</th>\n",
       "      <th>Act_Change</th>\n",
       "      <th>Pred_Change</th>\n",
       "    </tr>\n",
       "  </thead>\n",
       "  <tbody>\n",
       "    <tr>\n",
       "      <th>0</th>\n",
       "      <td>43.696</td>\n",
       "      <td>44.766</td>\n",
       "      <td>43.702468</td>\n",
       "      <td>1.070</td>\n",
       "      <td>0.006468</td>\n",
       "    </tr>\n",
       "    <tr>\n",
       "      <th>1</th>\n",
       "      <td>43.436</td>\n",
       "      <td>44.405</td>\n",
       "      <td>43.442424</td>\n",
       "      <td>0.969</td>\n",
       "      <td>0.006424</td>\n",
       "    </tr>\n",
       "    <tr>\n",
       "      <th>2</th>\n",
       "      <td>44.179</td>\n",
       "      <td>44.392</td>\n",
       "      <td>44.185533</td>\n",
       "      <td>0.213</td>\n",
       "      <td>0.006533</td>\n",
       "    </tr>\n",
       "    <tr>\n",
       "      <th>3</th>\n",
       "      <td>45.019</td>\n",
       "      <td>44.515</td>\n",
       "      <td>45.025658</td>\n",
       "      <td>-0.504</td>\n",
       "      <td>0.006658</td>\n",
       "    </tr>\n",
       "    <tr>\n",
       "      <th>4</th>\n",
       "      <td>44.877</td>\n",
       "      <td>44.752</td>\n",
       "      <td>44.883636</td>\n",
       "      <td>-0.125</td>\n",
       "      <td>0.006636</td>\n",
       "    </tr>\n",
       "    <tr>\n",
       "      <th>5</th>\n",
       "      <td>44.945</td>\n",
       "      <td>44.466</td>\n",
       "      <td>44.951643</td>\n",
       "      <td>-0.479</td>\n",
       "      <td>0.006643</td>\n",
       "    </tr>\n",
       "    <tr>\n",
       "      <th>6</th>\n",
       "      <td>44.646</td>\n",
       "      <td>44.382</td>\n",
       "      <td>44.652600</td>\n",
       "      <td>-0.264</td>\n",
       "      <td>0.006600</td>\n",
       "    </tr>\n",
       "    <tr>\n",
       "      <th>7</th>\n",
       "      <td>44.631</td>\n",
       "      <td>43.605</td>\n",
       "      <td>44.637598</td>\n",
       "      <td>-1.026</td>\n",
       "      <td>0.006598</td>\n",
       "    </tr>\n",
       "    <tr>\n",
       "      <th>8</th>\n",
       "      <td>44.126</td>\n",
       "      <td>42.682</td>\n",
       "      <td>44.132520</td>\n",
       "      <td>-1.444</td>\n",
       "      <td>0.006520</td>\n",
       "    </tr>\n",
       "    <tr>\n",
       "      <th>9</th>\n",
       "      <td>43.695</td>\n",
       "      <td>43.048</td>\n",
       "      <td>43.701462</td>\n",
       "      <td>-0.647</td>\n",
       "      <td>0.006462</td>\n",
       "    </tr>\n",
       "  </tbody>\n",
       "</table>\n",
       "</div>"
      ],
      "text/plain": [
       "   Initial  Actual  Predicted  Act_Change  Pred_Change\n",
       "0   43.696  44.766  43.702468       1.070     0.006468\n",
       "1   43.436  44.405  43.442424       0.969     0.006424\n",
       "2   44.179  44.392  44.185533       0.213     0.006533\n",
       "3   45.019  44.515  45.025658      -0.504     0.006658\n",
       "4   44.877  44.752  44.883636      -0.125     0.006636\n",
       "5   44.945  44.466  44.951643      -0.479     0.006643\n",
       "6   44.646  44.382  44.652600      -0.264     0.006600\n",
       "7   44.631  43.605  44.637598      -1.026     0.006598\n",
       "8   44.126  42.682  44.132520      -1.444     0.006520\n",
       "9   43.695  43.048  43.701462      -0.647     0.006462"
      ]
     },
     "execution_count": 21,
     "metadata": {},
     "output_type": "execute_result"
    }
   ],
   "source": [
    "temp_test30 = test.copy()\n",
    "result_df30 = pd.DataFrame(temp_test30 , columns =['Initial'])\n",
    "result_df30['Initial'] = result_df30['Initial'].shift(1, axis =0)\n",
    "result_df30['Initial'][0] = train[len(train)-1]\n",
    "result_df30.drop(result_df30.tail(29).index,inplace=True)\n",
    "result_df30['Actual'] = test[29:]\n",
    "result_df30['Predicted'] = predictions30[:len(predictions30)-29]\n",
    "result_df30['Act_Change'] = result_df30.apply(lambda row: row['Actual'] - row['Initial'] , axis = 1)\n",
    "result_df30['Pred_Change'] = result_df30.apply(lambda row: row['Predicted'] - row['Initial'] , axis = 1)\n",
    "\n",
    "result_df30.head(10)"
   ]
  },
  {
   "cell_type": "markdown",
   "id": "aquatic-dealer",
   "metadata": {},
   "source": [
    "# Evaluation of results"
   ]
  },
  {
   "cell_type": "code",
   "execution_count": 30,
   "id": "legitimate-creation",
   "metadata": {},
   "outputs": [
    {
     "name": "stdout",
     "output_type": "stream",
     "text": [
      "Test RMSE: 8.133\n"
     ]
    },
    {
     "data": {
      "image/png": "[encoded data removed]",
      "text/plain": [
       "<Figure size 432x288 with 1 Axes>"
      ]
     },
     "metadata": {
      "needs_background": "light"
     },
     "output_type": "display_data"
    }
   ],
   "source": [
    "rmse = np.sqrt(mean_squared_error(result_df30['Actual'], result_df30['Predicted']))\n",
    "print('Test RMSE: %.3f' % rmse)\n",
    "plt.plot(test)\n",
    "plt.plot(predictions1, color='red')\n",
    "plt.show()"
   ]
  },
  {
   "cell_type": "code",
   "execution_count": 28,
   "id": "musical-portrait",
   "metadata": {},
   "outputs": [
    {
     "name": "stdout",
     "output_type": "stream",
     "text": [
      "Test accuracy: 0.607\n",
      "Test recall: 1.000\n",
      "Test precision: 0.607\n",
      "Test f1 score: 0.755\n"
     ]
    }
   ],
   "source": [
    "tp = 0\n",
    "tn = 0\n",
    "fp = 0\n",
    "fn = 0\n",
    "\n",
    "for index, row in result_df30.iterrows():\n",
    "    if (row['Pred_Change'] > 0):\n",
    "        if (row['Act_Change'] > 0):\n",
    "            tp += 1\n",
    "        else:\n",
    "            fp += 1\n",
    "    else:\n",
    "        if (row['Act_Change'] > 0):\n",
    "            fn += 1\n",
    "        else:\n",
    "            tn += 1\n",
    "            \n",
    "if (((fn + tp)==0) | ((fp + tp)==0)):\n",
    "    print('no data available')\n",
    "else:         \n",
    "    accuracy = (tp+tn)/(tp+tn+fp+fn)\n",
    "    print('Test accuracy: %.3f' % accuracy)\n",
    "    recall = tp/(fn + tp)\n",
    "    print('Test recall: %.3f' % recall)\n",
    "    precision = tp/(fp + tp)\n",
    "    print('Test precision: %.3f' % precision)\n",
    "    f1 = 2/((1/precision)+(1/recall))\n",
    "    print('Test f1 score: %.3f' % f1)\n"
   ]
  },
  {
   "cell_type": "code",
   "execution_count": 22,
   "id": "stupid-czech",
   "metadata": {},
   "outputs": [
    {
     "name": "stdout",
     "output_type": "stream",
     "text": [
      "2.1425182481751808\n"
     ]
    }
   ],
   "source": [
    "profit = 0;\n",
    "counter = 0\n",
    "for index, row in result_df30.iterrows():\n",
    "    if (row['Pred_Change'] > 0):\n",
    "        profit += row['Act_Change']\n",
    "        counter += 1\n",
    "if (counter == 0):\n",
    "    print(counter)\n",
    "else:\n",
    "    print(profit/counter)"
   ]
  }
 ],
 "metadata": {
  "kernelspec": {
   "display_name": "Python 3",
   "language": "python",
   "name": "python3"
  },
  "language_info": {
   "codemirror_mode": {
    "name": "ipython",
    "version": 3
   },
   "file_extension": ".py",
   "mimetype": "text/x-python",
   "name": "python",
   "nbconvert_exporter": "python",
   "pygments_lexer": "ipython3",
   "version": "3.7.3"
  },
  "latex_envs": {
   "LaTeX_envs_menu_present": true,
   "autoclose": false,
   "autocomplete": true,
   "bibliofile": "biblio.bib",
   "cite_by": "apalike",
   "current_citInitial": 1,
   "eqLabelWithNumbers": true,
   "eqNumInitial": 1,
   "hotkeys": {
    "equation": "Ctrl-E",
    "itemize": "Ctrl-I"
   },
   "labels_anchors": false,
   "latex_user_defs": false,
   "report_style_numbering": false,
   "user_envs_cfg": false
  }
 },
 "nbformat": 4,
 "nbformat_minor": 5
}
