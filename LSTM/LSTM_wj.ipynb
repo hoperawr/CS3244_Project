{
 "cells": [
  {
   "cell_type": "code",
   "execution_count": 1,
   "metadata": {},
   "outputs": [],
   "source": [
    "import numpy as np\n",
    "import pandas as pd\n",
    "import matplotlib.pyplot as plt\n",
    "from tensorflow import keras as keras\n",
    "from statistics import mean\n",
    "\n",
    "\n",
    "data = pd.read_csv(\"data/Stocks/aapl.us.txt\")"
   ]
  },
  {
   "cell_type": "code",
   "execution_count": 2,
   "metadata": {},
   "outputs": [
    {
     "data": {
      "text/html": [
       "<div>\n",
       "<style scoped>\n",
       "    .dataframe tbody tr th:only-of-type {\n",
       "        vertical-align: middle;\n",
       "    }\n",
       "\n",
       "    .dataframe tbody tr th {\n",
       "        vertical-align: top;\n",
       "    }\n",
       "\n",
       "    .dataframe thead th {\n",
       "        text-align: right;\n",
       "    }\n",
       "</style>\n",
       "<table border=\"1\" class=\"dataframe\">\n",
       "  <thead>\n",
       "    <tr style=\"text-align: right;\">\n",
       "      <th></th>\n",
       "      <th>Date</th>\n",
       "      <th>Open</th>\n",
       "      <th>High</th>\n",
       "      <th>Low</th>\n",
       "      <th>Close</th>\n",
       "      <th>Volume</th>\n",
       "      <th>OpenInt</th>\n",
       "    </tr>\n",
       "  </thead>\n",
       "  <tbody>\n",
       "    <tr>\n",
       "      <th>0</th>\n",
       "      <td>1984-09-07</td>\n",
       "      <td>0.42388</td>\n",
       "      <td>0.42902</td>\n",
       "      <td>0.41874</td>\n",
       "      <td>0.42388</td>\n",
       "      <td>23220030</td>\n",
       "      <td>0</td>\n",
       "    </tr>\n",
       "    <tr>\n",
       "      <th>1</th>\n",
       "      <td>1984-09-10</td>\n",
       "      <td>0.42388</td>\n",
       "      <td>0.42516</td>\n",
       "      <td>0.41366</td>\n",
       "      <td>0.42134</td>\n",
       "      <td>18022532</td>\n",
       "      <td>0</td>\n",
       "    </tr>\n",
       "    <tr>\n",
       "      <th>2</th>\n",
       "      <td>1984-09-11</td>\n",
       "      <td>0.42516</td>\n",
       "      <td>0.43668</td>\n",
       "      <td>0.42516</td>\n",
       "      <td>0.42902</td>\n",
       "      <td>42498199</td>\n",
       "      <td>0</td>\n",
       "    </tr>\n",
       "    <tr>\n",
       "      <th>3</th>\n",
       "      <td>1984-09-12</td>\n",
       "      <td>0.42902</td>\n",
       "      <td>0.43157</td>\n",
       "      <td>0.41618</td>\n",
       "      <td>0.41618</td>\n",
       "      <td>37125801</td>\n",
       "      <td>0</td>\n",
       "    </tr>\n",
       "    <tr>\n",
       "      <th>4</th>\n",
       "      <td>1984-09-13</td>\n",
       "      <td>0.43927</td>\n",
       "      <td>0.44052</td>\n",
       "      <td>0.43927</td>\n",
       "      <td>0.43927</td>\n",
       "      <td>57822062</td>\n",
       "      <td>0</td>\n",
       "    </tr>\n",
       "    <tr>\n",
       "      <th>...</th>\n",
       "      <td>...</td>\n",
       "      <td>...</td>\n",
       "      <td>...</td>\n",
       "      <td>...</td>\n",
       "      <td>...</td>\n",
       "      <td>...</td>\n",
       "      <td>...</td>\n",
       "    </tr>\n",
       "    <tr>\n",
       "      <th>8359</th>\n",
       "      <td>2017-11-06</td>\n",
       "      <td>171.75000</td>\n",
       "      <td>174.36000</td>\n",
       "      <td>171.10000</td>\n",
       "      <td>173.63000</td>\n",
       "      <td>34901241</td>\n",
       "      <td>0</td>\n",
       "    </tr>\n",
       "    <tr>\n",
       "      <th>8360</th>\n",
       "      <td>2017-11-07</td>\n",
       "      <td>173.29000</td>\n",
       "      <td>174.51000</td>\n",
       "      <td>173.29000</td>\n",
       "      <td>174.18000</td>\n",
       "      <td>24424877</td>\n",
       "      <td>0</td>\n",
       "    </tr>\n",
       "    <tr>\n",
       "      <th>8361</th>\n",
       "      <td>2017-11-08</td>\n",
       "      <td>174.03000</td>\n",
       "      <td>175.61000</td>\n",
       "      <td>173.71000</td>\n",
       "      <td>175.61000</td>\n",
       "      <td>24451166</td>\n",
       "      <td>0</td>\n",
       "    </tr>\n",
       "    <tr>\n",
       "      <th>8362</th>\n",
       "      <td>2017-11-09</td>\n",
       "      <td>174.48000</td>\n",
       "      <td>175.46000</td>\n",
       "      <td>172.52000</td>\n",
       "      <td>175.25000</td>\n",
       "      <td>29533086</td>\n",
       "      <td>0</td>\n",
       "    </tr>\n",
       "    <tr>\n",
       "      <th>8363</th>\n",
       "      <td>2017-11-10</td>\n",
       "      <td>175.11000</td>\n",
       "      <td>175.38000</td>\n",
       "      <td>174.27000</td>\n",
       "      <td>174.67000</td>\n",
       "      <td>25130494</td>\n",
       "      <td>0</td>\n",
       "    </tr>\n",
       "  </tbody>\n",
       "</table>\n",
       "<p>8364 rows × 7 columns</p>\n",
       "</div>"
      ],
      "text/plain": [
       "            Date       Open       High        Low      Close    Volume  \\\n",
       "0     1984-09-07    0.42388    0.42902    0.41874    0.42388  23220030   \n",
       "1     1984-09-10    0.42388    0.42516    0.41366    0.42134  18022532   \n",
       "2     1984-09-11    0.42516    0.43668    0.42516    0.42902  42498199   \n",
       "3     1984-09-12    0.42902    0.43157    0.41618    0.41618  37125801   \n",
       "4     1984-09-13    0.43927    0.44052    0.43927    0.43927  57822062   \n",
       "...          ...        ...        ...        ...        ...       ...   \n",
       "8359  2017-11-06  171.75000  174.36000  171.10000  173.63000  34901241   \n",
       "8360  2017-11-07  173.29000  174.51000  173.29000  174.18000  24424877   \n",
       "8361  2017-11-08  174.03000  175.61000  173.71000  175.61000  24451166   \n",
       "8362  2017-11-09  174.48000  175.46000  172.52000  175.25000  29533086   \n",
       "8363  2017-11-10  175.11000  175.38000  174.27000  174.67000  25130494   \n",
       "\n",
       "      OpenInt  \n",
       "0           0  \n",
       "1           0  \n",
       "2           0  \n",
       "3           0  \n",
       "4           0  \n",
       "...       ...  \n",
       "8359        0  \n",
       "8360        0  \n",
       "8361        0  \n",
       "8362        0  \n",
       "8363        0  \n",
       "\n",
       "[8364 rows x 7 columns]"
      ]
     },
     "execution_count": 2,
     "metadata": {},
     "output_type": "execute_result"
    }
   ],
   "source": [
    "data"
   ]
  },
  {
   "cell_type": "code",
   "execution_count": 3,
   "metadata": {},
   "outputs": [],
   "source": [
    "#split to training (60%), validation(20%) and test data(20%)\n",
    "train_data,val_data, test_data = data[0:int(len(data)*0.60)],data[int(len(data)*0.60):int(len(data)*0.80)],data[int(len(data)*0.80):len(data)]"
   ]
  },
  {
   "cell_type": "code",
   "execution_count": 4,
   "metadata": {},
   "outputs": [
    {
     "data": {
      "text/html": [
       "<div>\n",
       "<style scoped>\n",
       "    .dataframe tbody tr th:only-of-type {\n",
       "        vertical-align: middle;\n",
       "    }\n",
       "\n",
       "    .dataframe tbody tr th {\n",
       "        vertical-align: top;\n",
       "    }\n",
       "\n",
       "    .dataframe thead th {\n",
       "        text-align: right;\n",
       "    }\n",
       "</style>\n",
       "<table border=\"1\" class=\"dataframe\">\n",
       "  <thead>\n",
       "    <tr style=\"text-align: right;\">\n",
       "      <th></th>\n",
       "      <th>Date</th>\n",
       "      <th>Open</th>\n",
       "      <th>High</th>\n",
       "      <th>Low</th>\n",
       "      <th>Close</th>\n",
       "      <th>Volume</th>\n",
       "      <th>OpenInt</th>\n",
       "    </tr>\n",
       "  </thead>\n",
       "  <tbody>\n",
       "    <tr>\n",
       "      <th>5018</th>\n",
       "      <td>2004-08-02</td>\n",
       "      <td>2.0003</td>\n",
       "      <td>2.0618</td>\n",
       "      <td>1.9926</td>\n",
       "      <td>2.0221</td>\n",
       "      <td>101816881</td>\n",
       "      <td>0</td>\n",
       "    </tr>\n",
       "    <tr>\n",
       "      <th>5019</th>\n",
       "      <td>2004-08-03</td>\n",
       "      <td>2.0171</td>\n",
       "      <td>2.0312</td>\n",
       "      <td>1.9939</td>\n",
       "      <td>2.0030</td>\n",
       "      <td>59018788</td>\n",
       "      <td>0</td>\n",
       "    </tr>\n",
       "    <tr>\n",
       "      <th>5020</th>\n",
       "      <td>2004-08-04</td>\n",
       "      <td>1.9977</td>\n",
       "      <td>2.0567</td>\n",
       "      <td>1.9965</td>\n",
       "      <td>2.0350</td>\n",
       "      <td>77107901</td>\n",
       "      <td>0</td>\n",
       "    </tr>\n",
       "    <tr>\n",
       "      <th>5021</th>\n",
       "      <td>2004-08-05</td>\n",
       "      <td>2.0337</td>\n",
       "      <td>2.0682</td>\n",
       "      <td>2.0003</td>\n",
       "      <td>2.0106</td>\n",
       "      <td>68186131</td>\n",
       "      <td>0</td>\n",
       "    </tr>\n",
       "    <tr>\n",
       "      <th>5022</th>\n",
       "      <td>2004-08-06</td>\n",
       "      <td>1.9787</td>\n",
       "      <td>1.9914</td>\n",
       "      <td>1.9018</td>\n",
       "      <td>1.9070</td>\n",
       "      <td>137290881</td>\n",
       "      <td>0</td>\n",
       "    </tr>\n",
       "    <tr>\n",
       "      <th>...</th>\n",
       "      <td>...</td>\n",
       "      <td>...</td>\n",
       "      <td>...</td>\n",
       "      <td>...</td>\n",
       "      <td>...</td>\n",
       "      <td>...</td>\n",
       "      <td>...</td>\n",
       "    </tr>\n",
       "    <tr>\n",
       "      <th>6686</th>\n",
       "      <td>2011-03-16</td>\n",
       "      <td>43.7760</td>\n",
       "      <td>43.9270</td>\n",
       "      <td>41.7830</td>\n",
       "      <td>42.2610</td>\n",
       "      <td>321588398</td>\n",
       "      <td>0</td>\n",
       "    </tr>\n",
       "    <tr>\n",
       "      <th>6687</th>\n",
       "      <td>2011-03-17</td>\n",
       "      <td>43.1480</td>\n",
       "      <td>43.4920</td>\n",
       "      <td>42.3460</td>\n",
       "      <td>42.8540</td>\n",
       "      <td>183661658</td>\n",
       "      <td>0</td>\n",
       "    </tr>\n",
       "    <tr>\n",
       "      <th>6688</th>\n",
       "      <td>2011-03-18</td>\n",
       "      <td>43.1420</td>\n",
       "      <td>43.3080</td>\n",
       "      <td>42.2600</td>\n",
       "      <td>42.3460</td>\n",
       "      <td>209933174</td>\n",
       "      <td>0</td>\n",
       "    </tr>\n",
       "    <tr>\n",
       "      <th>6689</th>\n",
       "      <td>2011-03-21</td>\n",
       "      <td>43.0460</td>\n",
       "      <td>43.5090</td>\n",
       "      <td>42.9340</td>\n",
       "      <td>43.4520</td>\n",
       "      <td>115188315</td>\n",
       "      <td>0</td>\n",
       "    </tr>\n",
       "    <tr>\n",
       "      <th>6690</th>\n",
       "      <td>2011-03-22</td>\n",
       "      <td>43.8710</td>\n",
       "      <td>43.8770</td>\n",
       "      <td>43.4320</td>\n",
       "      <td>43.6960</td>\n",
       "      <td>90914326</td>\n",
       "      <td>0</td>\n",
       "    </tr>\n",
       "  </tbody>\n",
       "</table>\n",
       "<p>1673 rows × 7 columns</p>\n",
       "</div>"
      ],
      "text/plain": [
       "            Date     Open     High      Low    Close     Volume  OpenInt\n",
       "5018  2004-08-02   2.0003   2.0618   1.9926   2.0221  101816881        0\n",
       "5019  2004-08-03   2.0171   2.0312   1.9939   2.0030   59018788        0\n",
       "5020  2004-08-04   1.9977   2.0567   1.9965   2.0350   77107901        0\n",
       "5021  2004-08-05   2.0337   2.0682   2.0003   2.0106   68186131        0\n",
       "5022  2004-08-06   1.9787   1.9914   1.9018   1.9070  137290881        0\n",
       "...          ...      ...      ...      ...      ...        ...      ...\n",
       "6686  2011-03-16  43.7760  43.9270  41.7830  42.2610  321588398        0\n",
       "6687  2011-03-17  43.1480  43.4920  42.3460  42.8540  183661658        0\n",
       "6688  2011-03-18  43.1420  43.3080  42.2600  42.3460  209933174        0\n",
       "6689  2011-03-21  43.0460  43.5090  42.9340  43.4520  115188315        0\n",
       "6690  2011-03-22  43.8710  43.8770  43.4320  43.6960   90914326        0\n",
       "\n",
       "[1673 rows x 7 columns]"
      ]
     },
     "execution_count": 4,
     "metadata": {},
     "output_type": "execute_result"
    }
   ],
   "source": [
    "val_data"
   ]
  },
  {
   "cell_type": "code",
   "execution_count": 5,
   "metadata": {},
   "outputs": [],
   "source": [
    "training_set = train_data.iloc[:,4:5]\n",
    "val_set = val_data.iloc[:,4:5]"
   ]
  },
  {
   "cell_type": "code",
   "execution_count": 6,
   "metadata": {},
   "outputs": [],
   "source": [
    "#normalise training and validation dataset for training\n",
    "from sklearn.preprocessing import MinMaxScaler\n",
    "from sklearn.metrics import mean_squared_error\n",
    "scaler = MinMaxScaler(feature_range = (0,1))\n",
    "scaled_training_set = scaler.fit_transform(training_set)\n",
    "scaled_val_set = scaler.fit_transform(val_set)"
   ]
  },
  {
   "cell_type": "code",
   "execution_count": 7,
   "metadata": {},
   "outputs": [
    {
     "data": {
      "text/plain": [
       "array([[0.0440861 ],\n",
       "       [0.04350701],\n",
       "       [0.04525796],\n",
       "       ...,\n",
       "       [0.41869823],\n",
       "       [0.42391916],\n",
       "       [0.41956459]])"
      ]
     },
     "execution_count": 7,
     "metadata": {},
     "output_type": "execute_result"
    }
   ],
   "source": [
    "scaled_training_set"
   ]
  },
  {
   "cell_type": "code",
   "execution_count": 8,
   "metadata": {},
   "outputs": [],
   "source": [
    "#prepare trainging and validation data\n",
    "x_train = []\n",
    "y_train = []\n",
    "timestamp = 60\n",
    "\n",
    "for i in range(timestamp,len(training_set)):\n",
    "    x_train.append(scaled_training_set[i-timestamp:i,0])\n",
    "    y_train.append(scaled_training_set[i,0])\n",
    "    \n",
    "x_train = np.array(x_train)\n",
    "y_train = np.array(y_train)\n",
    "\n",
    "x_val = []\n",
    "y_val = []\n",
    "for i in range(timestamp,len(val_set)):\n",
    "    x_val.append(scaled_val_set[i-timestamp:i,0])\n",
    "    y_val.append(scaled_val_set[i,0])\n",
    "    \n",
    "x_val = np.array(x_val)\n",
    "y_val = np.array(y_val)\n",
    "\n",
    "#reshape data for lstm training\n",
    "x_train = x_train.reshape(x_train.shape[0],x_train.shape[1],1)\n",
    "x_val = x_val.reshape(x_val.shape[0],x_val.shape[1],1)"
   ]
  },
  {
   "cell_type": "code",
   "execution_count": 9,
   "metadata": {},
   "outputs": [
    {
     "name": "stdout",
     "output_type": "stream",
     "text": [
      "(4958, 60, 1) (4958,)\n",
      "(1613, 60, 1) (1613,)\n"
     ]
    }
   ],
   "source": [
    "print(x_train.shape,y_train.shape)\n",
    "print(x_val.shape,y_val.shape)"
   ]
  },
  {
   "cell_type": "code",
   "execution_count": 10,
   "metadata": {},
   "outputs": [],
   "source": [
    "def LSTM_model():\n",
    "    model = keras.models.Sequential()\n",
    "\n",
    "    model.add(keras.layers.LSTM(units = 35, return_sequences = True, input_shape = (x_train.shape[1],1)))\n",
    "    model.add(keras.layers.LSTM(units = 35))\n",
    "    model.add(keras.layers.Dense(units = 35))\n",
    "    model.add(keras.layers.Dense(1))\n",
    "    \n",
    "    model.compile(optimizer = 'adam', loss = 'mean_squared_error')\n",
    "    history = model.fit(x_train, y_train, epochs = 40, batch_size = 32, validation_data=(x_val,y_val), verbose = 0)\n",
    "    return model,history\n"
   ]
  },
  {
   "cell_type": "code",
   "execution_count": 11,
   "metadata": {
    "scrolled": true
   },
   "outputs": [],
   "source": [
    "model,history = LSTM_model()"
   ]
  },
  {
   "cell_type": "code",
   "execution_count": 12,
   "metadata": {},
   "outputs": [
    {
     "data": {
      "text/plain": [
       "[<matplotlib.lines.Line2D at 0x14cd63ce6a0>]"
      ]
     },
     "execution_count": 12,
     "metadata": {},
     "output_type": "execute_result"
    },
    {
     "data": {
      "image/png": "[encoded data removed]",
      "text/plain": [
       "<Figure size 432x288 with 1 Axes>"
      ]
     },
     "metadata": {
      "needs_background": "light"
     },
     "output_type": "display_data"
    }
   ],
   "source": [
    "plt.plot(history.history['loss'])\n",
    "plt.plot(history.history['val_loss'])"
   ]
  },
  {
   "cell_type": "code",
   "execution_count": 13,
   "metadata": {},
   "outputs": [],
   "source": [
    "#normalising test data for prediction\n",
    "data_test = pd.concat((val_data[\"Close\"], test_data[\"Close\"]), axis = 0,ignore_index = True)\n",
    "inputs = data_test[(len(data_test) - len(test_data) - timestamp):].values\n",
    "inputs = inputs.reshape(-1,1)\n",
    "inputs = scaler.fit_transform(inputs)\n",
    "\n",
    "#prepare test data\n",
    "x_test = []\n",
    "y_test = []\n",
    "\n",
    "for i in range(timestamp,len(test_data) + timestamp):\n",
    "    x_test.append(inputs[i-timestamp:i,0])\n",
    "    y_test.append(inputs[i,0])\n",
    "    \n",
    "x_test = np.array(x_test)\n",
    "y_test = np.array(y_test)\n",
    "x_test = x_test.reshape(x_test.shape[0],x_test.shape[1],1)"
   ]
  },
  {
   "cell_type": "code",
   "execution_count": 14,
   "metadata": {},
   "outputs": [],
   "source": [
    "#prediction for test data\n",
    "y_pred = model.predict(x_test)\n",
    "y_pred = scaler.inverse_transform(y_pred)\n",
    "y_test = scaler.inverse_transform(y_test.reshape(-1, 1))"
   ]
  },
  {
   "cell_type": "code",
   "execution_count": 15,
   "metadata": {},
   "outputs": [
    {
     "data": {
      "image/png": "[encoded data removed]",
      "text/plain": [
       "<Figure size 432x288 with 1 Axes>"
      ]
     },
     "metadata": {
      "needs_background": "light"
     },
     "output_type": "display_data"
    }
   ],
   "source": [
    "plt.plot(y_test, color = 'red', label = 'Real Stock Price')\n",
    "plt.plot(y_pred, color = 'blue', label = 'Predicted Stock Price')\n",
    "plt.title('aapl')\n",
    "plt.xlabel('Time')\n",
    "plt.ylabel('Closing Price')\n",
    "plt.legend()\n",
    "plt.show()"
   ]
  },
  {
   "cell_type": "code",
   "execution_count": 16,
   "metadata": {},
   "outputs": [
    {
     "data": {
      "text/plain": [
       "3.0979915213083076"
      ]
     },
     "execution_count": 16,
     "metadata": {},
     "output_type": "execute_result"
    }
   ],
   "source": [
    "mean_squared_error(y_test,y_pred)"
   ]
  },
  {
   "cell_type": "code",
   "execution_count": 17,
   "metadata": {},
   "outputs": [],
   "source": [
    "#investigate the effect of early stopping using val_loss\n",
    "def LSTM_model_early(tolerant):\n",
    "    model = keras.models.Sequential()\n",
    "\n",
    "    model.add(keras.layers.LSTM(units = 35, return_sequences = True, input_shape = (x_train.shape[1],1)))\n",
    "    model.add(keras.layers.LSTM(units = 35))\n",
    "    model.add(keras.layers.Dense(units = 35))\n",
    "    model.add(keras.layers.Dense(1))\n",
    "    \n",
    "    model.compile(optimizer = 'adam', loss = 'mean_squared_error')\n",
    "    callback = keras.callbacks.EarlyStopping(monitor='val_loss', patience=tolerant)\n",
    "    history = model.fit(x_train, y_train, epochs = 40, batch_size = 32, validation_data=(x_val,y_val),callbacks=[callback], verbose = 0)\n",
    "    return model,history\n",
    "\n"
   ]
  },
  {
   "cell_type": "code",
   "execution_count": 18,
   "metadata": {},
   "outputs": [],
   "source": [
    "def trial():\n",
    "    full,early,loss1,loss2 = [],[],[],[]\n",
    "    for i in range(10):\n",
    "        \n",
    "        model,history = LSTM_model()\n",
    "        min_full = history.history['val_loss'][-1]\n",
    "        min_loss1 = history.history['loss'][-1]\n",
    "        full.append(min_full)\n",
    "        loss1.append(min_loss1)\n",
    "    \n",
    "        model_early,history_early = LSTM_model_early(5)\n",
    "        min_early = history_early.history['val_loss'][-1]\n",
    "        min_loss_e = history_early.history['loss'][-1]\n",
    "        early.append(min_early)\n",
    "        loss2.append(min_loss_e)\n",
    "        \n",
    "        print(i)\n",
    "    \n",
    "    avg_full = mean(full)\n",
    "    avg_early = mean(early)\n",
    "    avg_loss1 = mean(loss1)\n",
    "    avg_loss2 = mean(loss2)\n",
    "    print(avg_full,avg_early)\n",
    "    print(avg_loss1,avg_loss2)"
   ]
  },
  {
   "cell_type": "code",
   "execution_count": 19,
   "metadata": {},
   "outputs": [
    {
     "name": "stdout",
     "output_type": "stream",
     "text": [
      "0\n",
      "1\n",
      "2\n",
      "3\n",
      "4\n",
      "5\n",
      "6\n",
      "7\n",
      "8\n",
      "9\n",
      "0.00015690277723479085 0.00023612453151145019\n",
      "0.00019054845033679159 0.00022059564216760918\n"
     ]
    }
   ],
   "source": [
    "trial()"
   ]
  },
  {
   "cell_type": "markdown",
   "metadata": {},
   "source": [
    "The difference between training with early stopping and no early stopping for both training loss and validation loss are very small, but early stopping is able to save a significant amount of time for training and grid search."
   ]
  },
  {
   "cell_type": "markdown",
   "metadata": {},
   "source": [
    "#grid search done in another notebook\n",
    "\n",
    "suggested parameter:\n",
    "timestep = 55\n",
    "nodes = 45"
   ]
  },
  {
   "cell_type": "code",
   "execution_count": 22,
   "metadata": {},
   "outputs": [],
   "source": [
    "x_train = []\n",
    "y_train = []\n",
    "timestamp = 55\n",
    "\n",
    "for i in range(timestamp,len(training_set)):\n",
    "    x_train.append(scaled_training_set[i-timestamp:i,0])\n",
    "    y_train.append(scaled_training_set[i,0])\n",
    "    \n",
    "x_train = np.array(x_train)\n",
    "y_train = np.array(y_train)\n",
    "\n",
    "x_val = []\n",
    "y_val = []\n",
    "for i in range(timestamp,len(val_set)):\n",
    "    x_val.append(scaled_val_set[i-timestamp:i,0])\n",
    "    y_val.append(scaled_val_set[i,0])\n",
    "    \n",
    "x_val = np.array(x_val)\n",
    "y_val = np.array(y_val)\n",
    "\n",
    "#reshape data for lstm training\n",
    "x_train = x_train.reshape(x_train.shape[0],x_train.shape[1],1)\n",
    "x_val = x_val.reshape(x_val.shape[0],x_val.shape[1],1)\n",
    "\n",
    "def LSTM_model_GS():\n",
    "    model = keras.models.Sequential()\n",
    "\n",
    "    model.add(keras.layers.LSTM(units = 45, return_sequences = True, input_shape = (x_train.shape[1],1)))\n",
    "    model.add(keras.layers.LSTM(units = 45))\n",
    "    model.add(keras.layers.Dense(units = 45))\n",
    "    model.add(keras.layers.Dense(1))\n",
    "    \n",
    "    model.compile(optimizer = 'adam', loss = 'mean_squared_error')\n",
    "    callback = keras.callbacks.EarlyStopping(monitor='val_loss', patience=5)\n",
    "    history = model.fit(x_train, y_train, epochs = 40, batch_size = 32, validation_data=(x_val,y_val),callbacks=[callback], verbose = 0)\n",
    "    return model,history"
   ]
  },
  {
   "cell_type": "code",
   "execution_count": 23,
   "metadata": {},
   "outputs": [],
   "source": [
    "model,history = LSTM_model_GS()"
   ]
  },
  {
   "cell_type": "code",
   "execution_count": 24,
   "metadata": {},
   "outputs": [],
   "source": [
    "#normalising test data for prediction\n",
    "data_test = pd.concat((val_data[\"Close\"], test_data[\"Close\"]), axis = 0,ignore_index = True)\n",
    "inputs = data_test[(len(data_test) - len(test_data) - timestamp):].values\n",
    "inputs = inputs.reshape(-1,1)\n",
    "inputs = scaler.fit_transform(inputs)\n",
    "\n",
    "#prepare test data\n",
    "x_test = []\n",
    "y_test = []\n",
    "\n",
    "for i in range(timestamp,len(test_data) + timestamp):\n",
    "    x_test.append(inputs[i-timestamp:i,0])\n",
    "    y_test.append(inputs[i,0])\n",
    "    \n",
    "x_test = np.array(x_test)\n",
    "y_test = np.array(y_test)\n",
    "x_test = x_test.reshape(x_test.shape[0],x_test.shape[1],1)\n",
    "\n",
    "#prediction for test data\n",
    "y_pred = model.predict(x_test)\n",
    "y_pred = scaler.inverse_transform(y_pred)\n",
    "y_test = scaler.inverse_transform(y_test.reshape(-1, 1))"
   ]
  },
  {
   "cell_type": "code",
   "execution_count": 25,
   "metadata": {},
   "outputs": [
    {
     "data": {
      "image/png": "[encoded data removed]",
      "text/plain": [
       "<Figure size 432x288 with 1 Axes>"
      ]
     },
     "metadata": {
      "needs_background": "light"
     },
     "output_type": "display_data"
    }
   ],
   "source": [
    "plt.plot(y_test, color = 'red', label = 'Real Stock Price')\n",
    "plt.plot(y_pred, color = 'blue', label = 'Predicted Stock Price')\n",
    "plt.title('aapl')\n",
    "plt.xlabel('Time')\n",
    "plt.ylabel('Closing Price')\n",
    "plt.legend()\n",
    "plt.show()"
   ]
  },
  {
   "cell_type": "code",
   "execution_count": 26,
   "metadata": {},
   "outputs": [
    {
     "data": {
      "text/plain": [
       "2.4212485985780967"
      ]
     },
     "execution_count": 26,
     "metadata": {},
     "output_type": "execute_result"
    }
   ],
   "source": [
    "mean_squared_error(y_test,y_pred)"
   ]
  },
  {
   "cell_type": "code",
   "execution_count": null,
   "metadata": {},
   "outputs": [],
   "source": []
  }
 ],
 "metadata": {
  "kernelspec": {
   "display_name": "Python 3",
   "language": "python",
   "name": "python3"
  },
  "language_info": {
   "codemirror_mode": {
    "name": "ipython",
    "version": 3
   },
   "file_extension": ".py",
   "mimetype": "text/x-python",
   "name": "python",
   "nbconvert_exporter": "python",
   "pygments_lexer": "ipython3",
   "version": "3.8.3"
  }
 },
 "nbformat": 4,
 "nbformat_minor": 4
}
